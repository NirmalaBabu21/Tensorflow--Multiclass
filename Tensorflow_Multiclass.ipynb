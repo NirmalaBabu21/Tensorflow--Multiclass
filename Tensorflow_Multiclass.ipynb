{
  "nbformat": 4,
  "nbformat_minor": 0,
  "metadata": {
    "colab": {
      "name": "Tensorflow- Multiclass.ipynb",
      "provenance": [],
      "collapsed_sections": []
    },
    "kernelspec": {
      "name": "python3",
      "display_name": "Python 3"
    },
    "language_info": {
      "name": "python"
    }
  },
  "cells": [
    {
      "cell_type": "markdown",
      "source": [
        "# Activity 1:\n",
        "\n",
        "Create the Neural Network, with below structure using the same dataset.\n",
        "- 15 Neurons with 'relu' activation\n",
        "- 25 Neurons with 'relu' activation\n",
        "- 25 Neurons with 'relu' activation\n",
        "- 10 Neurons with 'softmax' activation\n",
        "\n",
        "For the Compile Method use the below settings:\n",
        "\n",
        "- optimizer = 'Adam'\n",
        "- loss = 'sparse_categorical_crossentropy'\n",
        "- metrics = ['accuracy']"
      ],
      "metadata": {
        "id": "EQUjlAvdZpQM"
      }
    },
    {
      "cell_type": "code",
      "execution_count": 1,
      "metadata": {
        "id": "WD0F3FiOMYzW"
      },
      "outputs": [],
      "source": [
        "import tensorflow as tf\n",
        "#tensors"
      ]
    },
    {
      "cell_type": "markdown",
      "source": [
        "# MNIST Dataset"
      ],
      "metadata": {
        "id": "qHAklgXtR-xH"
      }
    },
    {
      "cell_type": "code",
      "source": [
        "from tensorflow.keras.datasets import mnist\n",
        "(X_train,y_train),(X_test,y_test) = mnist.load_data()"
      ],
      "metadata": {
        "id": "-ayCUqdXO9CV",
        "colab": {
          "base_uri": "https://localhost:8080/"
        },
        "outputId": "aeed3ff9-bcbc-4465-e023-9a8352477bea"
      },
      "execution_count": 2,
      "outputs": [
        {
          "output_type": "stream",
          "name": "stdout",
          "text": [
            "Downloading data from https://storage.googleapis.com/tensorflow/tf-keras-datasets/mnist.npz\n",
            "11493376/11490434 [==============================] - 0s 0us/step\n",
            "11501568/11490434 [==============================] - 0s 0us/step\n"
          ]
        }
      ]
    },
    {
      "cell_type": "code",
      "source": [
        "X_train.shape"
      ],
      "metadata": {
        "colab": {
          "base_uri": "https://localhost:8080/"
        },
        "id": "x2Q59tfHSLTL",
        "outputId": "b676d687-d5df-4531-92e0-cf4c4b7bf9b1"
      },
      "execution_count": 3,
      "outputs": [
        {
          "output_type": "execute_result",
          "data": {
            "text/plain": [
              "(60000, 28, 28)"
            ]
          },
          "metadata": {},
          "execution_count": 3
        }
      ]
    },
    {
      "cell_type": "code",
      "source": [
        "X_test.shape"
      ],
      "metadata": {
        "colab": {
          "base_uri": "https://localhost:8080/"
        },
        "id": "1hoI9SRsSNlL",
        "outputId": "86036eda-abca-44b0-9bd5-424a781374c1"
      },
      "execution_count": 4,
      "outputs": [
        {
          "output_type": "execute_result",
          "data": {
            "text/plain": [
              "(10000, 28, 28)"
            ]
          },
          "metadata": {},
          "execution_count": 4
        }
      ]
    },
    {
      "cell_type": "code",
      "source": [
        "import matplotlib.pyplot as plt\n",
        "plt.imshow(X_train[0])\n",
        "plt.title(f\"Class is :{y_train[0]} \")\n",
        "plt.show()"
      ],
      "metadata": {
        "colab": {
          "base_uri": "https://localhost:8080/",
          "height": 281
        },
        "id": "mQw6dqqISS36",
        "outputId": "7b96b1c0-6ee1-4745-e9bd-039384e031fc"
      },
      "execution_count": null,
      "outputs": [
        {
          "output_type": "display_data",
          "data": {
            "text/plain": [
              "<Figure size 432x288 with 1 Axes>"
            ],
            "image/png": "[encoded data removed]"
          },
          "metadata": {
            "needs_background": "light"
          }
        }
      ]
    },
    {
      "cell_type": "code",
      "source": [
        "import matplotlib.pyplot as plt\n",
        "plt.imshow(X_train[1])\n",
        "plt.title(f\"Class is :{y_train[1]} \")\n",
        "plt.show()"
      ],
      "metadata": {
        "colab": {
          "base_uri": "https://localhost:8080/",
          "height": 281
        },
        "id": "14hNCqMhSrwr",
        "outputId": "7ad236fb-5f72-4c43-ec83-84f07ddbbc39"
      },
      "execution_count": null,
      "outputs": [
        {
          "output_type": "display_data",
          "data": {
            "text/plain": [
              "<Figure size 432x288 with 1 Axes>"
            ],
            "image/png": "[encoded data removed]"
          },
          "metadata": {
            "needs_background": "light"
          }
        }
      ]
    },
    {
      "cell_type": "code",
      "source": [
        "# Explore\n",
        "import numpy as np\n",
        "np.max(X_train)"
      ],
      "metadata": {
        "colab": {
          "base_uri": "https://localhost:8080/"
        },
        "id": "PICloPawSw7W",
        "outputId": "35e7cf49-3f92-41db-e832-b42a63253a7f"
      },
      "execution_count": 5,
      "outputs": [
        {
          "output_type": "execute_result",
          "data": {
            "text/plain": [
              "255"
            ]
          },
          "metadata": {},
          "execution_count": 5
        }
      ]
    },
    {
      "cell_type": "code",
      "source": [
        "np.min(X_train)"
      ],
      "metadata": {
        "colab": {
          "base_uri": "https://localhost:8080/"
        },
        "id": "3BXprTMZTBU1",
        "outputId": "5217c6c2-1453-46e5-97fd-f8dd45901e66"
      },
      "execution_count": 6,
      "outputs": [
        {
          "output_type": "execute_result",
          "data": {
            "text/plain": [
              "0"
            ]
          },
          "metadata": {},
          "execution_count": 6
        }
      ]
    },
    {
      "cell_type": "code",
      "source": [
        "# Normalize the data\n",
        "\n",
        "X_train = X_train/255.0\n",
        "X_test = X_test/255.0\n",
        "np.max(X_train), np.min(X_train)"
      ],
      "metadata": {
        "colab": {
          "base_uri": "https://localhost:8080/"
        },
        "id": "g1OTD2R4TCVY",
        "outputId": "4a9cf63c-6957-4f6d-e5f2-dd7d8f8ba3f9"
      },
      "execution_count": 7,
      "outputs": [
        {
          "output_type": "execute_result",
          "data": {
            "text/plain": [
              "(1.0, 0.0)"
            ]
          },
          "metadata": {},
          "execution_count": 7
        }
      ]
    },
    {
      "cell_type": "code",
      "source": [
        "# Various Layers in tf\n",
        "from tensorflow.keras.layers import Flatten,Dense\n",
        "from tensorflow.keras import Sequential"
      ],
      "metadata": {
        "id": "8xqlsWSlUECX"
      },
      "execution_count": 8,
      "outputs": []
    },
    {
      "cell_type": "code",
      "source": [
        "model = Sequential()\n",
        "model.add(Flatten(input_shape=(28,28)))  # Convert the multi-dimension input into a single dim vector\n",
        "model.add(Dense(units=15, activation='relu'))\n",
        "model.add(Dense(units=25,activation='relu'))\n",
        "model.add(Dense(units=25,activation='relu'))\n",
        "# Multi class classification --> output layer activation = softmax\n",
        "model.add(Dense(units=10,activation='softmax'))"
      ],
      "metadata": {
        "id": "fo2niKBXUStY"
      },
      "execution_count": 9,
      "outputs": []
    },
    {
      "cell_type": "code",
      "source": [
        "model.summary()"
      ],
      "metadata": {
        "colab": {
          "base_uri": "https://localhost:8080/"
        },
        "id": "JAnOT8AzVTmX",
        "outputId": "50369638-add2-4ed1-badf-9c84607e5673"
      },
      "execution_count": 10,
      "outputs": [
        {
          "output_type": "stream",
          "name": "stdout",
          "text": [
            "Model: \"sequential\"\n",
            "_________________________________________________________________\n",
            " Layer (type)                Output Shape              Param #   \n",
            "=================================================================\n",
            " flatten (Flatten)           (None, 784)               0         \n",
            "                                                                 \n",
            " dense (Dense)               (None, 15)                11775     \n",
            "                                                                 \n",
            " dense_1 (Dense)             (None, 25)                400       \n",
            "                                                                 \n",
            " dense_2 (Dense)             (None, 25)                650       \n",
            "                                                                 \n",
            " dense_3 (Dense)             (None, 10)                260       \n",
            "                                                                 \n",
            "=================================================================\n",
            "Total params: 13,085\n",
            "Trainable params: 13,085\n",
            "Non-trainable params: 0\n",
            "_________________________________________________________________\n"
          ]
        }
      ]
    },
    {
      "cell_type": "code",
      "source": [
        "tf.keras.utils.plot_model(model)"
      ],
      "metadata": {
        "colab": {
          "base_uri": "https://localhost:8080/",
          "height": 564
        },
        "id": "TC2tEhcFVVb-",
        "outputId": "22c0da2c-dbd9-4c02-fcd4-9a2ad6dd6c1f"
      },
      "execution_count": 11,
      "outputs": [
        {
          "output_type": "execute_result",
          "data": {
            "text/plain": [
              "<IPython.core.display.Image object>"
            ],
            "image/png": "[encoded data removed]"
          },
          "metadata": {},
          "execution_count": 11
        }
      ]
    },
    {
      "cell_type": "markdown",
      "source": [
        "# Optimizer\n",
        "https://www.tensorflow.org/api_docs/python/tf/keras/optimizers\n",
        "\n",
        "rmsprop / adam"
      ],
      "metadata": {
        "id": "Ykg7_G8LWGcW"
      }
    },
    {
      "cell_type": "code",
      "source": [
        "model.compile(optimizer= 'Adam', \n",
        "              loss = 'sparse_categorical_crossentropy', # Multi class classification\n",
        "              metrics =['accuracy'] )"
      ],
      "metadata": {
        "id": "Rbg5VVDzVoxI"
      },
      "execution_count": 12,
      "outputs": []
    },
    {
      "cell_type": "code",
      "source": [
        "history = model.fit(X_train,y_train,epochs=25, batch_size=32)"
      ],
      "metadata": {
        "colab": {
          "base_uri": "https://localhost:8080/"
        },
        "id": "JO2m_OHsWe7Q",
        "outputId": "39a14898-e7de-4cab-c648-a7f8a93dfcfb"
      },
      "execution_count": 13,
      "outputs": [
        {
          "output_type": "stream",
          "name": "stdout",
          "text": [
            "Epoch 1/25\n",
            "1875/1875 [==============================] - 5s 2ms/step - loss: 0.4246 - accuracy: 0.8746\n",
            "Epoch 2/25\n",
            "1875/1875 [==============================] - 4s 2ms/step - loss: 0.2279 - accuracy: 0.9320\n",
            "Epoch 3/25\n",
            "1875/1875 [==============================] - 4s 2ms/step - loss: 0.1916 - accuracy: 0.9429\n",
            "Epoch 4/25\n",
            "1875/1875 [==============================] - 4s 2ms/step - loss: 0.1665 - accuracy: 0.9495\n",
            "Epoch 5/25\n",
            "1875/1875 [==============================] - 5s 3ms/step - loss: 0.1524 - accuracy: 0.9542\n",
            "Epoch 6/25\n",
            "1875/1875 [==============================] - 4s 2ms/step - loss: 0.1401 - accuracy: 0.9578\n",
            "Epoch 7/25\n",
            "1875/1875 [==============================] - 4s 2ms/step - loss: 0.1328 - accuracy: 0.9594\n",
            "Epoch 8/25\n",
            "1875/1875 [==============================] - 4s 2ms/step - loss: 0.1246 - accuracy: 0.9625\n",
            "Epoch 9/25\n",
            "1875/1875 [==============================] - 4s 2ms/step - loss: 0.1211 - accuracy: 0.9627\n",
            "Epoch 10/25\n",
            "1875/1875 [==============================] - 4s 2ms/step - loss: 0.1142 - accuracy: 0.9650\n",
            "Epoch 11/25\n",
            "1875/1875 [==============================] - 4s 2ms/step - loss: 0.1106 - accuracy: 0.9659\n",
            "Epoch 12/25\n",
            "1875/1875 [==============================] - 4s 2ms/step - loss: 0.1048 - accuracy: 0.9680\n",
            "Epoch 13/25\n",
            "1875/1875 [==============================] - 4s 2ms/step - loss: 0.1018 - accuracy: 0.9683\n",
            "Epoch 14/25\n",
            "1875/1875 [==============================] - 4s 2ms/step - loss: 0.0982 - accuracy: 0.9693\n",
            "Epoch 15/25\n",
            "1875/1875 [==============================] - 4s 2ms/step - loss: 0.0944 - accuracy: 0.9704\n",
            "Epoch 16/25\n",
            "1875/1875 [==============================] - 4s 2ms/step - loss: 0.0914 - accuracy: 0.9710\n",
            "Epoch 17/25\n",
            "1875/1875 [==============================] - 4s 2ms/step - loss: 0.0895 - accuracy: 0.9711\n",
            "Epoch 18/25\n",
            "1875/1875 [==============================] - 4s 2ms/step - loss: 0.0874 - accuracy: 0.9726\n",
            "Epoch 19/25\n",
            "1875/1875 [==============================] - 4s 2ms/step - loss: 0.0840 - accuracy: 0.9739\n",
            "Epoch 20/25\n",
            "1875/1875 [==============================] - 4s 2ms/step - loss: 0.0832 - accuracy: 0.9737\n",
            "Epoch 21/25\n",
            "1875/1875 [==============================] - 4s 2ms/step - loss: 0.0804 - accuracy: 0.9743\n",
            "Epoch 22/25\n",
            "1875/1875 [==============================] - 4s 2ms/step - loss: 0.0769 - accuracy: 0.9753\n",
            "Epoch 23/25\n",
            "1875/1875 [==============================] - 4s 2ms/step - loss: 0.0758 - accuracy: 0.9760\n",
            "Epoch 24/25\n",
            "1875/1875 [==============================] - 5s 3ms/step - loss: 0.0740 - accuracy: 0.9761\n",
            "Epoch 25/25\n",
            "1875/1875 [==============================] - 4s 2ms/step - loss: 0.0723 - accuracy: 0.9770\n"
          ]
        }
      ]
    },
    {
      "cell_type": "code",
      "source": [
        "h = history.history"
      ],
      "metadata": {
        "id": "MVYQvgPVWsxo"
      },
      "execution_count": 14,
      "outputs": []
    },
    {
      "cell_type": "code",
      "source": [
        "h.keys()"
      ],
      "metadata": {
        "colab": {
          "base_uri": "https://localhost:8080/"
        },
        "id": "LaNIXvDHXBn3",
        "outputId": "8a674abe-6fa3-49cf-cf4e-ae0dedbc9eb6"
      },
      "execution_count": 15,
      "outputs": [
        {
          "output_type": "execute_result",
          "data": {
            "text/plain": [
              "dict_keys(['loss', 'accuracy'])"
            ]
          },
          "metadata": {},
          "execution_count": 15
        }
      ]
    },
    {
      "cell_type": "code",
      "source": [
        "import matplotlib.pyplot as plt\n"
      ],
      "metadata": {
        "id": "pfTqYHXytEHY"
      },
      "execution_count": 17,
      "outputs": []
    },
    {
      "cell_type": "code",
      "source": [
        "plt.plot(h['accuracy'])\n",
        "plt.title(\"accuracy\")\n",
        "plt.show()"
      ],
      "metadata": {
        "colab": {
          "base_uri": "https://localhost:8080/",
          "height": 281
        },
        "id": "pDLbyhneXdiA",
        "outputId": "f8f84465-3255-4b1b-e3a0-6f2452060b0f"
      },
      "execution_count": 18,
      "outputs": [
        {
          "output_type": "display_data",
          "data": {
            "text/plain": [
              "<Figure size 432x288 with 1 Axes>"
            ],
            "image/png": "[encoded data removed]"
          },
          "metadata": {
            "needs_background": "light"
          }
        }
      ]
    },
    {
      "cell_type": "code",
      "source": [
        "plt.plot(h['loss'])\n",
        "plt.title(\"Loss\")\n",
        "plt.show()"
      ],
      "metadata": {
        "colab": {
          "base_uri": "https://localhost:8080/",
          "height": 281
        },
        "id": "zH_-YxmyXjG3",
        "outputId": "c81780da-609d-40b5-8c0d-5623aef67ab8"
      },
      "execution_count": 19,
      "outputs": [
        {
          "output_type": "display_data",
          "data": {
            "text/plain": [
              "<Figure size 432x288 with 1 Axes>"
            ],
            "image/png": "[encoded data removed]"
          },
          "metadata": {
            "needs_background": "light"
          }
        }
      ]
    },
    {
      "cell_type": "code",
      "source": [
        "# Prediction\n",
        "y_pred = model.predict(X_test)\n",
        "y_pred"
      ],
      "metadata": {
        "colab": {
          "base_uri": "https://localhost:8080/"
        },
        "id": "NQJa7AyCXoAj",
        "outputId": "86119323-dc35-4ad8-910a-29381ef819bb"
      },
      "execution_count": 20,
      "outputs": [
        {
          "output_type": "execute_result",
          "data": {
            "text/plain": [
              "array([[1.3012780e-04, 1.8977812e-11, 1.0554245e-07, ..., 9.9928421e-01,\n",
              "        1.3118216e-06, 4.3865052e-04],\n",
              "       [4.7134525e-11, 3.0154510e-05, 9.9994445e-01, ..., 2.2431208e-05,\n",
              "        1.1806159e-06, 1.5145510e-11],\n",
              "       [2.1725137e-07, 9.9898583e-01, 1.6044693e-05, ..., 2.5504426e-04,\n",
              "        3.6174690e-05, 8.5772881e-05],\n",
              "       ...,\n",
              "       [9.9623304e-16, 3.3366458e-08, 4.1404550e-11, ..., 1.2887981e-08,\n",
              "        4.0763001e-12, 1.2730450e-06],\n",
              "       [7.8307812e-11, 2.3938240e-09, 3.2761080e-10, ..., 5.2663329e-10,\n",
              "        2.0608935e-05, 1.6193298e-11],\n",
              "       [5.2403287e-10, 1.6920549e-15, 1.4281464e-10, ..., 4.1609242e-19,\n",
              "        6.3720432e-13, 9.0670506e-15]], dtype=float32)"
            ]
          },
          "metadata": {},
          "execution_count": 20
        }
      ]
    },
    {
      "cell_type": "code",
      "source": [
        "# evaluate\n",
        "model.evaluate(X_test,y_test)"
      ],
      "metadata": {
        "colab": {
          "base_uri": "https://localhost:8080/"
        },
        "id": "kOTnJplEYBwS",
        "outputId": "8f1088a8-d828-45c2-c11f-e2ad7f10a61f"
      },
      "execution_count": 24,
      "outputs": [
        {
          "output_type": "stream",
          "name": "stdout",
          "text": [
            "313/313 [==============================] - 1s 2ms/step - loss: 0.1568 - accuracy: 0.9574\n"
          ]
        },
        {
          "output_type": "execute_result",
          "data": {
            "text/plain": [
              "[0.1567833423614502, 0.9574000239372253]"
            ]
          },
          "metadata": {},
          "execution_count": 24
        }
      ]
    },
    {
      "cell_type": "code",
      "source": [
        "np.argmax(y_pred,axis=1)"
      ],
      "metadata": {
        "colab": {
          "base_uri": "https://localhost:8080/"
        },
        "id": "ex3hdfS_YPMG",
        "outputId": "f8d9274f-0b53-44fb-c7d7-dcf88a5ad522"
      },
      "execution_count": 22,
      "outputs": [
        {
          "output_type": "execute_result",
          "data": {
            "text/plain": [
              "array([7, 2, 1, ..., 4, 5, 6])"
            ]
          },
          "metadata": {},
          "execution_count": 22
        }
      ]
    },
    {
      "cell_type": "code",
      "source": [
        "y_test[0]"
      ],
      "metadata": {
        "colab": {
          "base_uri": "https://localhost:8080/"
        },
        "id": "LUkiqwrzYW4X",
        "outputId": "25e39ea8-97d2-45a7-9c9a-175a26718dc5"
      },
      "execution_count": 23,
      "outputs": [
        {
          "output_type": "execute_result",
          "data": {
            "text/plain": [
              "7"
            ]
          },
          "metadata": {},
          "execution_count": 23
        }
      ]
    }
  ]
}